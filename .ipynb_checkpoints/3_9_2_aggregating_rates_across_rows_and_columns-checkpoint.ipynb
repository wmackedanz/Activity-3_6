{
 "cells": [
  {
   "cell_type": "code",
   "execution_count": 1,
   "id": "90f71b3f",
   "metadata": {},
   "outputs": [],
   "source": [
    "import polars as pl\n",
    "import polars.selectors as cs"
   ]
  },
  {
   "cell_type": "markdown",
   "id": "7bc1fa3a",
   "metadata": {},
   "source": [
    "# Aggregating rates across rows and columns"
   ]
  },
  {
   "cell_type": "markdown",
   "id": "dc525946",
   "metadata": {},
   "source": [
    "## Example - The mean of a rate isn't the combined rate"
   ]
  },
  {
   "cell_type": "code",
   "execution_count": 3,
   "id": "df6c8f57",
   "metadata": {},
   "outputs": [
    {
     "data": {
      "text/html": [
       "<div><style>\n",
       ".dataframe > thead > tr,\n",
       ".dataframe > tbody > tr {\n",
       "  text-align: right;\n",
       "  white-space: pre-wrap;\n",
       "}\n",
       "</style>\n",
       "<small>shape: (8, 2)</small><table border=\"1\" class=\"dataframe\"><thead><tr><th>Group</th><th>Value</th></tr><tr><td>str</td><td>i64</td></tr></thead><tbody><tr><td>&quot;A&quot;</td><td>1</td></tr><tr><td>&quot;A&quot;</td><td>2</td></tr><tr><td>&quot;A&quot;</td><td>3</td></tr><tr><td>&quot;B&quot;</td><td>5</td></tr><tr><td>&quot;B&quot;</td><td>2</td></tr><tr><td>&quot;C&quot;</td><td>3</td></tr><tr><td>&quot;C&quot;</td><td>3</td></tr><tr><td>&quot;C&quot;</td><td>2</td></tr></tbody></table></div>"
      ],
      "text/plain": [
       "shape: (8, 2)\n",
       "┌───────┬───────┐\n",
       "│ Group ┆ Value │\n",
       "│ ---   ┆ ---   │\n",
       "│ str   ┆ i64   │\n",
       "╞═══════╪═══════╡\n",
       "│ A     ┆ 1     │\n",
       "│ A     ┆ 2     │\n",
       "│ A     ┆ 3     │\n",
       "│ B     ┆ 5     │\n",
       "│ B     ┆ 2     │\n",
       "│ C     ┆ 3     │\n",
       "│ C     ┆ 3     │\n",
       "│ C     ┆ 2     │\n",
       "└───────┴───────┘"
      ]
     },
     "execution_count": 3,
     "metadata": {},
     "output_type": "execute_result"
    }
   ],
   "source": [
    "(df :=\n",
    " pl.DataFrame({'Group': 3*['A'] + 2*['B'] + 3*['C'],\n",
    "               'Value': [1, 2, 3, 5, 2, 3, 3, 2]})\n",
    ")"
   ]
  },
  {
   "cell_type": "markdown",
   "id": "cbebc7b6",
   "metadata": {},
   "source": [
    "#### Group means"
   ]
  },
  {
   "cell_type": "code",
   "execution_count": 17,
   "id": "6ce7d46e",
   "metadata": {},
   "outputs": [
    {
     "data": {
      "text/html": [
       "<div><style>\n",
       ".dataframe > thead > tr,\n",
       ".dataframe > tbody > tr {\n",
       "  text-align: right;\n",
       "  white-space: pre-wrap;\n",
       "}\n",
       "</style>\n",
       "<small>shape: (3, 2)</small><table border=\"1\" class=\"dataframe\"><thead><tr><th>Group</th><th>mean_value</th></tr><tr><td>str</td><td>f64</td></tr></thead><tbody><tr><td>&quot;A&quot;</td><td>2.0</td></tr><tr><td>&quot;B&quot;</td><td>3.5</td></tr><tr><td>&quot;C&quot;</td><td>2.666667</td></tr></tbody></table></div>"
      ],
      "text/plain": [
       "shape: (3, 2)\n",
       "┌───────┬────────────┐\n",
       "│ Group ┆ mean_value │\n",
       "│ ---   ┆ ---        │\n",
       "│ str   ┆ f64        │\n",
       "╞═══════╪════════════╡\n",
       "│ A     ┆ 2.0        │\n",
       "│ B     ┆ 3.5        │\n",
       "│ C     ┆ 2.666667   │\n",
       "└───────┴────────────┘"
      ]
     },
     "execution_count": 17,
     "metadata": {},
     "output_type": "execute_result"
    }
   ],
   "source": [
    "(df\n",
    ".group_by('Group')\n",
    ".agg(mean_value = pl.col('Value').mean())\n",
    ")"
   ]
  },
  {
   "cell_type": "markdown",
   "id": "3b021209",
   "metadata": {},
   "source": [
    "#### Mean of groups means"
   ]
  },
  {
   "cell_type": "code",
   "execution_count": 24,
   "id": "c3701e7e",
   "metadata": {},
   "outputs": [
    {
     "data": {
      "text/html": [
       "<div><style>\n",
       ".dataframe > thead > tr,\n",
       ".dataframe > tbody > tr {\n",
       "  text-align: right;\n",
       "  white-space: pre-wrap;\n",
       "}\n",
       "</style>\n",
       "<small>shape: (1, 1)</small><table border=\"1\" class=\"dataframe\"><thead><tr><th>mean_of_means</th></tr><tr><td>f64</td></tr></thead><tbody><tr><td>2.722222</td></tr></tbody></table></div>"
      ],
      "text/plain": [
       "shape: (1, 1)\n",
       "┌───────────────┐\n",
       "│ mean_of_means │\n",
       "│ ---           │\n",
       "│ f64           │\n",
       "╞═══════════════╡\n",
       "│ 2.722222      │\n",
       "└───────────────┘"
      ]
     },
     "execution_count": 24,
     "metadata": {},
     "output_type": "execute_result"
    }
   ],
   "source": [
    "(mean_of_group_means :=\n",
    " df\n",
    ".group_by('Group')\n",
    ".agg(mean_value = pl.col('Value').mean())\n",
    ".select(pl.col('mean_value').mean().alias('mean_of_means'))\n",
    ")"
   ]
  },
  {
   "cell_type": "markdown",
   "id": "ad20dabe",
   "metadata": {},
   "source": [
    "#### Grand mean"
   ]
  },
  {
   "cell_type": "code",
   "execution_count": 21,
   "id": "18624acc",
   "metadata": {},
   "outputs": [
    {
     "data": {
      "text/html": [
       "<div><style>\n",
       ".dataframe > thead > tr,\n",
       ".dataframe > tbody > tr {\n",
       "  text-align: right;\n",
       "  white-space: pre-wrap;\n",
       "}\n",
       "</style>\n",
       "<small>shape: (1, 1)</small><table border=\"1\" class=\"dataframe\"><thead><tr><th>grand_mean</th></tr><tr><td>f64</td></tr></thead><tbody><tr><td>2.625</td></tr></tbody></table></div>"
      ],
      "text/plain": [
       "shape: (1, 1)\n",
       "┌────────────┐\n",
       "│ grand_mean │\n",
       "│ ---        │\n",
       "│ f64        │\n",
       "╞════════════╡\n",
       "│ 2.625      │\n",
       "└────────────┘"
      ]
     },
     "execution_count": 21,
     "metadata": {},
     "output_type": "execute_result"
    }
   ],
   "source": [
    "(grand_mean :=\n",
    " df\n",
    ".select(pl.col('Value').mean().alias('grand_mean'))\n",
    ")"
   ]
  },
  {
   "cell_type": "markdown",
   "id": "479625b7",
   "metadata": {},
   "source": [
    "#### Mean of the group means `!=` grand mean"
   ]
  },
  {
   "cell_type": "code",
   "execution_count": 23,
   "id": "a097208f",
   "metadata": {},
   "outputs": [
    {
     "data": {
      "text/html": [
       "<div><style>\n",
       ".dataframe > thead > tr,\n",
       ".dataframe > tbody > tr {\n",
       "  text-align: right;\n",
       "  white-space: pre-wrap;\n",
       "}\n",
       "</style>\n",
       "<small>shape: (1, 1)</small><table border=\"1\" class=\"dataframe\"><thead><tr><th>mean_of_means</th></tr><tr><td>f64</td></tr></thead><tbody><tr><td>0.097222</td></tr></tbody></table></div>"
      ],
      "text/plain": [
       "shape: (1, 1)\n",
       "┌───────────────┐\n",
       "│ mean_of_means │\n",
       "│ ---           │\n",
       "│ f64           │\n",
       "╞═══════════════╡\n",
       "│ 0.097222      │\n",
       "└───────────────┘"
      ]
     },
     "execution_count": 23,
     "metadata": {},
     "output_type": "execute_result"
    }
   ],
   "source": [
    "mean_of_group_means - grand_mean"
   ]
  },
  {
   "cell_type": "markdown",
   "id": "567e5356",
   "metadata": {},
   "source": [
    "### Examples of common rates\n",
    "\n",
    "1. Mean,\n",
    "2. Percent of total and other ratios,\n",
    "3. Population rates (e.g., X per 1K people),\n",
    "4. Anything you describe using \"per\"\n"
   ]
  },
  {
   "cell_type": "markdown",
   "id": "2750482d",
   "metadata": {},
   "source": [
    "## Review - Aggregating rates\n",
    "\n",
    "When aggregating a rate across groups, we need to\n",
    "\n",
    "1. Aggregate the numerator and demon, then\n",
    "2. Compute the rate from to using the aggregated values."
   ]
  },
  {
   "cell_type": "code",
   "execution_count": 26,
   "id": "31298a8d",
   "metadata": {},
   "outputs": [
    {
     "data": {
      "text/html": [
       "<div><style>\n",
       ".dataframe > thead > tr,\n",
       ".dataframe > tbody > tr {\n",
       "  text-align: right;\n",
       "  white-space: pre-wrap;\n",
       "}\n",
       "</style>\n",
       "<small>shape: (1, 1)</small><table border=\"1\" class=\"dataframe\"><thead><tr><th>grand_mean</th></tr><tr><td>f64</td></tr></thead><tbody><tr><td>2.625</td></tr></tbody></table></div>"
      ],
      "text/plain": [
       "shape: (1, 1)\n",
       "┌────────────┐\n",
       "│ grand_mean │\n",
       "│ ---        │\n",
       "│ f64        │\n",
       "╞════════════╡\n",
       "│ 2.625      │\n",
       "└────────────┘"
      ]
     },
     "execution_count": 26,
     "metadata": {},
     "output_type": "execute_result"
    }
   ],
   "source": [
    "(grand_mean_via_groups :=\n",
    " df\n",
    ".group_by('Group')\n",
    ".agg(sum_value = pl.col('Value').sum(),\n",
    "     cnt_value = pl.col('Value').count())\n",
    ".select(pl.col('sum_value').sum().alias('sum_of_sums'),\n",
    "        pl.col('cnt_value').sum().alias('cnt_of_cnts'),\n",
    "       )\n",
    ".with_columns(grand_mean = pl.col('sum_of_sums')/pl.col('cnt_of_cnts'))\n",
    ".drop('sum_of_sums', 'cnt_of_cnts')\n",
    ")"
   ]
  },
  {
   "cell_type": "code",
   "execution_count": 27,
   "id": "ac733ebf",
   "metadata": {},
   "outputs": [
    {
     "data": {
      "text/html": [
       "<div><style>\n",
       ".dataframe > thead > tr,\n",
       ".dataframe > tbody > tr {\n",
       "  text-align: right;\n",
       "  white-space: pre-wrap;\n",
       "}\n",
       "</style>\n",
       "<small>shape: (1, 1)</small><table border=\"1\" class=\"dataframe\"><thead><tr><th>grand_mean</th></tr><tr><td>f64</td></tr></thead><tbody><tr><td>0.0</td></tr></tbody></table></div>"
      ],
      "text/plain": [
       "shape: (1, 1)\n",
       "┌────────────┐\n",
       "│ grand_mean │\n",
       "│ ---        │\n",
       "│ f64        │\n",
       "╞════════════╡\n",
       "│ 0.0        │\n",
       "└────────────┘"
      ]
     },
     "execution_count": 27,
     "metadata": {},
     "output_type": "execute_result"
    }
   ],
   "source": [
    "grand_mean_via_groups - grand_mean"
   ]
  },
  {
   "cell_type": "markdown",
   "id": "cc135d0c",
   "metadata": {},
   "source": [
    "### Why do we care?\n",
    "\n",
    "Because sometimes the data is already an aggregated value!"
   ]
  },
  {
   "cell_type": "code",
   "execution_count": 25,
   "id": "99d26b29",
   "metadata": {},
   "outputs": [
    {
     "data": {
      "text/html": [
       "<div><style>\n",
       ".dataframe > thead > tr,\n",
       ".dataframe > tbody > tr {\n",
       "  text-align: right;\n",
       "  white-space: pre-wrap;\n",
       "}\n",
       "</style>\n",
       "<small>shape: (8, 6)</small><table border=\"1\" class=\"dataframe\"><thead><tr><th>ID</th><th>Salesperson</th><th>Compact</th><th>Sedan</th><th>SUV</th><th>Truck</th></tr><tr><td>i64</td><td>str</td><td>i64</td><td>i64</td><td>i64</td><td>i64</td></tr></thead><tbody><tr><td>0</td><td>&quot;Ann&quot;</td><td>22</td><td>18</td><td>15</td><td>12</td></tr><tr><td>1</td><td>&quot;Bob&quot;</td><td>19</td><td>12</td><td>17</td><td>20</td></tr><tr><td>2</td><td>&quot;Yolanda&quot;</td><td>19</td><td>8</td><td>32</td><td>15</td></tr><tr><td>3</td><td>&quot;Xerxes&quot;</td><td>12</td><td>23</td><td>18</td><td>9</td></tr><tr><td>0</td><td>&quot;Ann&quot;</td><td>22</td><td>18</td><td>15</td><td>12</td></tr><tr><td>1</td><td>&quot;Bob&quot;</td><td>20</td><td>14</td><td>6</td><td>24</td></tr><tr><td>2</td><td>&quot;Yolanda&quot;</td><td>19</td><td>10</td><td>28</td><td>17</td></tr><tr><td>3</td><td>&quot;Xerxes&quot;</td><td>11</td><td>27</td><td>17</td><td>9</td></tr></tbody></table></div>"
      ],
      "text/plain": [
       "shape: (8, 6)\n",
       "┌─────┬─────────────┬─────────┬───────┬─────┬───────┐\n",
       "│ ID  ┆ Salesperson ┆ Compact ┆ Sedan ┆ SUV ┆ Truck │\n",
       "│ --- ┆ ---         ┆ ---     ┆ ---   ┆ --- ┆ ---   │\n",
       "│ i64 ┆ str         ┆ i64     ┆ i64   ┆ i64 ┆ i64   │\n",
       "╞═════╪═════════════╪═════════╪═══════╪═════╪═══════╡\n",
       "│ 0   ┆ Ann         ┆ 22      ┆ 18    ┆ 15  ┆ 12    │\n",
       "│ 1   ┆ Bob         ┆ 19      ┆ 12    ┆ 17  ┆ 20    │\n",
       "│ 2   ┆ Yolanda     ┆ 19      ┆ 8     ┆ 32  ┆ 15    │\n",
       "│ 3   ┆ Xerxes      ┆ 12      ┆ 23    ┆ 18  ┆ 9     │\n",
       "│ 0   ┆ Ann         ┆ 22      ┆ 18    ┆ 15  ┆ 12    │\n",
       "│ 1   ┆ Bob         ┆ 20      ┆ 14    ┆ 6   ┆ 24    │\n",
       "│ 2   ┆ Yolanda     ┆ 19      ┆ 10    ┆ 28  ┆ 17    │\n",
       "│ 3   ┆ Xerxes      ┆ 11      ┆ 27    ┆ 17  ┆ 9     │\n",
       "└─────┴─────────────┴─────────┴───────┴─────┴───────┘"
      ]
     },
     "execution_count": 25,
     "metadata": {},
     "output_type": "execute_result"
    }
   ],
   "source": [
    "( auto_sales :=\n",
    "  pl.read_csv('./data/auto_sales_*.csv')\n",
    "  .rename({'':'ID'})\n",
    ")"
   ]
  },
  {
   "cell_type": "markdown",
   "id": "9c6f6025",
   "metadata": {},
   "source": [
    "## Aggregating a rate across rows and columns\n",
    "\n",
    "1. Compute the numerator and denominator row aggregations using `group_by` and `agg`.\n",
    "2. Compute the numerator and denominator column aggregations using `reduce` or `fold`."
   ]
  },
  {
   "cell_type": "code",
   "execution_count": 26,
   "id": "766a070f",
   "metadata": {},
   "outputs": [
    {
     "data": {
      "text/plain": [
       "['Compact', 'Sedan', 'SUV', 'Truck']"
      ]
     },
     "execution_count": 26,
     "metadata": {},
     "output_type": "execute_result"
    }
   ],
   "source": [
    "(type_columns := \n",
    " [c for c in auto_sales.columns if c not in ('ID','Salesperson')]\n",
    ")"
   ]
  },
  {
   "cell_type": "code",
   "execution_count": 27,
   "id": "fba0c6c3",
   "metadata": {},
   "outputs": [
    {
     "data": {
      "text/html": [
       "<div><style>\n",
       ".dataframe > thead > tr,\n",
       ".dataframe > tbody > tr {\n",
       "  text-align: right;\n",
       "  white-space: pre-wrap;\n",
       "}\n",
       "</style>\n",
       "<small>shape: (4, 12)</small><table border=\"1\" class=\"dataframe\"><thead><tr><th>Salesperson</th><th>sum_Compact</th><th>sum_Sedan</th><th>sum_SUV</th><th>sum_Truck</th><th>cnt_Compact</th><th>cnt_Sedan</th><th>cnt_SUV</th><th>cnt_Truck</th><th>sum_types</th><th>cnt_types</th><th>grand_mean</th></tr><tr><td>str</td><td>i64</td><td>i64</td><td>i64</td><td>i64</td><td>u32</td><td>u32</td><td>u32</td><td>u32</td><td>i64</td><td>u32</td><td>f64</td></tr></thead><tbody><tr><td>&quot;Yolanda&quot;</td><td>38</td><td>18</td><td>60</td><td>32</td><td>2</td><td>2</td><td>2</td><td>2</td><td>148</td><td>8</td><td>18.5</td></tr><tr><td>&quot;Bob&quot;</td><td>39</td><td>26</td><td>23</td><td>44</td><td>2</td><td>2</td><td>2</td><td>2</td><td>132</td><td>8</td><td>16.5</td></tr><tr><td>&quot;Xerxes&quot;</td><td>23</td><td>50</td><td>35</td><td>18</td><td>2</td><td>2</td><td>2</td><td>2</td><td>126</td><td>8</td><td>15.75</td></tr><tr><td>&quot;Ann&quot;</td><td>44</td><td>36</td><td>30</td><td>24</td><td>2</td><td>2</td><td>2</td><td>2</td><td>134</td><td>8</td><td>16.75</td></tr></tbody></table></div>"
      ],
      "text/plain": [
       "shape: (4, 12)\n",
       "┌────────────┬───────────┬───────────┬─────────┬───┬───────────┬───────────┬───────────┬───────────┐\n",
       "│ Salesperso ┆ sum_Compa ┆ sum_Sedan ┆ sum_SUV ┆ … ┆ cnt_Truck ┆ sum_types ┆ cnt_types ┆ grand_mea │\n",
       "│ n          ┆ ct        ┆ ---       ┆ ---     ┆   ┆ ---       ┆ ---       ┆ ---       ┆ n         │\n",
       "│ ---        ┆ ---       ┆ i64       ┆ i64     ┆   ┆ u32       ┆ i64       ┆ u32       ┆ ---       │\n",
       "│ str        ┆ i64       ┆           ┆         ┆   ┆           ┆           ┆           ┆ f64       │\n",
       "╞════════════╪═══════════╪═══════════╪═════════╪═══╪═══════════╪═══════════╪═══════════╪═══════════╡\n",
       "│ Yolanda    ┆ 38        ┆ 18        ┆ 60      ┆ … ┆ 2         ┆ 148       ┆ 8         ┆ 18.5      │\n",
       "│ Bob        ┆ 39        ┆ 26        ┆ 23      ┆ … ┆ 2         ┆ 132       ┆ 8         ┆ 16.5      │\n",
       "│ Xerxes     ┆ 23        ┆ 50        ┆ 35      ┆ … ┆ 2         ┆ 126       ┆ 8         ┆ 15.75     │\n",
       "│ Ann        ┆ 44        ┆ 36        ┆ 30      ┆ … ┆ 2         ┆ 134       ┆ 8         ┆ 16.75     │\n",
       "└────────────┴───────────┴───────────┴─────────┴───┴───────────┴───────────┴───────────┴───────────┘"
      ]
     },
     "execution_count": 27,
     "metadata": {},
     "output_type": "execute_result"
    }
   ],
   "source": [
    "(auto_sales\n",
    " .group_by('Salesperson')\n",
    " .agg(**{f'sum_{c}':pl.col(c).sum() for c in type_columns},\n",
    "      **{f'cnt_{c}':pl.col(c).count() for c in type_columns},\n",
    "     )\n",
    " .with_columns(sum_types = pl.reduce(lambda acc, col: acc + col, cs.starts_with('sum')),\n",
    "               cnt_types = pl.reduce(lambda acc, col: acc + col, cs.starts_with('cnt')),\n",
    "              )\n",
    " .with_columns(grand_mean = pl.col('sum_types')/pl.col('cnt_types'))\n",
    "#  .drop(cs.starts_with('sum') | cs.starts_with('cnt'))\n",
    " \n",
    ")"
   ]
  },
  {
   "cell_type": "markdown",
   "id": "0ab2105b",
   "metadata": {},
   "source": [
    "## <font color=\"red\"> Exercise 3.9.2 </font> - World Bank Population Ratio (urban/total) for each region over the 1980's\n",
    "\n",
    "Use the approach illustrated in the last example to compute the overall ratio of Urban to Total population for each region across all years in the 1990's. Do this by\n",
    "\n",
    "1. Loading the raw WB data,\n",
    "2. Select the columns of interest using column selectors,\n",
    "3. Filter to the two measures of interest,\n",
    "4. Unstack the two measures,\n",
    "5. Group and aggregate the numerator and denominator of the ratio across rows,\n",
    "6. Use `reduce` to aggregate the numerator and denominator of the ratio across columns, and\n",
    "7. Compute the ratio."
   ]
  },
  {
   "cell_type": "code",
   "execution_count": 41,
   "id": "364c5aeb",
   "metadata": {},
   "outputs": [
    {
     "data": {
      "text/html": [
       "<div><style>\n",
       ".dataframe > thead > tr,\n",
       ".dataframe > tbody > tr {\n",
       "  text-align: right;\n",
       "  white-space: pre-wrap;\n",
       "}\n",
       "</style>\n",
       "<small>shape: (5, 67)</small><table border=\"1\" class=\"dataframe\"><thead><tr><th>Country Name</th><th>Region</th><th>Series Name</th><th>Series Code</th><th>1960 [YR1960]</th><th>1961 [YR1961]</th><th>1962 [YR1962]</th><th>1963 [YR1963]</th><th>1964 [YR1964]</th><th>1965 [YR1965]</th><th>1966 [YR1966]</th><th>1967 [YR1967]</th><th>1968 [YR1968]</th><th>1969 [YR1969]</th><th>1970 [YR1970]</th><th>1971 [YR1971]</th><th>1972 [YR1972]</th><th>1973 [YR1973]</th><th>1974 [YR1974]</th><th>1975 [YR1975]</th><th>1976 [YR1976]</th><th>1977 [YR1977]</th><th>1978 [YR1978]</th><th>1979 [YR1979]</th><th>1980 [YR1980]</th><th>1981 [YR1981]</th><th>1982 [YR1982]</th><th>1983 [YR1983]</th><th>1984 [YR1984]</th><th>1985 [YR1985]</th><th>1986 [YR1986]</th><th>1987 [YR1987]</th><th>1988 [YR1988]</th><th>1989 [YR1989]</th><th>1990 [YR1990]</th><th>1991 [YR1991]</th><th>1992 [YR1992]</th><th>1993 [YR1993]</th><th>1994 [YR1994]</th><th>1995 [YR1995]</th><th>1996 [YR1996]</th><th>1997 [YR1997]</th><th>1998 [YR1998]</th><th>1999 [YR1999]</th><th>2000 [YR2000]</th><th>2001 [YR2001]</th><th>2002 [YR2002]</th><th>2003 [YR2003]</th><th>2004 [YR2004]</th><th>2005 [YR2005]</th><th>2006 [YR2006]</th><th>2007 [YR2007]</th><th>2008 [YR2008]</th><th>2009 [YR2009]</th><th>2010 [YR2010]</th><th>2011 [YR2011]</th><th>2012 [YR2012]</th><th>2013 [YR2013]</th><th>2014 [YR2014]</th><th>2015 [YR2015]</th><th>2016 [YR2016]</th><th>2017 [YR2017]</th><th>2018 [YR2018]</th><th>2019 [YR2019]</th><th>2020 [YR2020]</th><th>2021 [YR2021]</th><th>2022 [YR2022]</th></tr><tr><td>str</td><td>str</td><td>str</td><td>str</td><td>f64</td><td>f64</td><td>f64</td><td>f64</td><td>f64</td><td>f64</td><td>f64</td><td>f64</td><td>f64</td><td>f64</td><td>f64</td><td>f64</td><td>f64</td><td>f64</td><td>f64</td><td>f64</td><td>f64</td><td>f64</td><td>f64</td><td>f64</td><td>f64</td><td>f64</td><td>f64</td><td>f64</td><td>f64</td><td>f64</td><td>f64</td><td>f64</td><td>f64</td><td>f64</td><td>f64</td><td>f64</td><td>f64</td><td>f64</td><td>f64</td><td>f64</td><td>f64</td><td>f64</td><td>f64</td><td>f64</td><td>f64</td><td>f64</td><td>f64</td><td>f64</td><td>f64</td><td>f64</td><td>f64</td><td>f64</td><td>f64</td><td>f64</td><td>f64</td><td>f64</td><td>f64</td><td>f64</td><td>f64</td><td>f64</td><td>f64</td><td>f64</td><td>f64</td><td>f64</td><td>f64</td><td>f64</td><td>f64</td></tr></thead><tbody><tr><td>&quot;Afghanistan&quot;</td><td>&quot;Asia&quot;</td><td>&quot;Diabetes prevalence (% of popu…</td><td>&quot;SH.STA.DIAB.ZS&quot;</td><td>null</td><td>null</td><td>null</td><td>null</td><td>null</td><td>null</td><td>null</td><td>null</td><td>null</td><td>null</td><td>null</td><td>null</td><td>null</td><td>null</td><td>null</td><td>null</td><td>null</td><td>null</td><td>null</td><td>null</td><td>null</td><td>null</td><td>null</td><td>null</td><td>null</td><td>null</td><td>null</td><td>null</td><td>null</td><td>null</td><td>null</td><td>null</td><td>null</td><td>null</td><td>null</td><td>null</td><td>null</td><td>null</td><td>null</td><td>null</td><td>null</td><td>null</td><td>null</td><td>null</td><td>null</td><td>null</td><td>null</td><td>null</td><td>null</td><td>null</td><td>null</td><td>7.6</td><td>null</td><td>null</td><td>null</td><td>null</td><td>null</td><td>null</td><td>null</td><td>null</td><td>null</td><td>10.9</td><td>null</td></tr><tr><td>&quot;Afghanistan&quot;</td><td>&quot;Asia&quot;</td><td>&quot;Diabetes prevalence (% of popu…</td><td>&quot;SH.STA.DIAB.ZS&quot;</td><td>null</td><td>null</td><td>null</td><td>null</td><td>null</td><td>null</td><td>null</td><td>null</td><td>null</td><td>null</td><td>null</td><td>null</td><td>null</td><td>null</td><td>null</td><td>null</td><td>null</td><td>null</td><td>null</td><td>null</td><td>null</td><td>null</td><td>null</td><td>null</td><td>null</td><td>null</td><td>null</td><td>null</td><td>null</td><td>null</td><td>null</td><td>null</td><td>null</td><td>null</td><td>null</td><td>null</td><td>null</td><td>null</td><td>null</td><td>null</td><td>null</td><td>null</td><td>null</td><td>null</td><td>null</td><td>null</td><td>null</td><td>null</td><td>null</td><td>null</td><td>null</td><td>7.6</td><td>null</td><td>null</td><td>null</td><td>null</td><td>null</td><td>null</td><td>null</td><td>null</td><td>null</td><td>10.9</td><td>null</td></tr><tr><td>&quot;Afghanistan&quot;</td><td>&quot;Asia&quot;</td><td>&quot;Diabetes prevalence (% of popu…</td><td>&quot;SH.STA.DIAB.ZS&quot;</td><td>null</td><td>null</td><td>null</td><td>null</td><td>null</td><td>null</td><td>null</td><td>null</td><td>null</td><td>null</td><td>null</td><td>null</td><td>null</td><td>null</td><td>null</td><td>null</td><td>null</td><td>null</td><td>null</td><td>null</td><td>null</td><td>null</td><td>null</td><td>null</td><td>null</td><td>null</td><td>null</td><td>null</td><td>null</td><td>null</td><td>null</td><td>null</td><td>null</td><td>null</td><td>null</td><td>null</td><td>null</td><td>null</td><td>null</td><td>null</td><td>null</td><td>null</td><td>null</td><td>null</td><td>null</td><td>null</td><td>null</td><td>null</td><td>null</td><td>null</td><td>null</td><td>7.6</td><td>null</td><td>null</td><td>null</td><td>null</td><td>null</td><td>null</td><td>null</td><td>null</td><td>null</td><td>10.9</td><td>null</td></tr><tr><td>&quot;Afghanistan&quot;</td><td>&quot;Asia&quot;</td><td>&quot;Diabetes prevalence (% of popu…</td><td>&quot;SH.STA.DIAB.ZS&quot;</td><td>null</td><td>null</td><td>null</td><td>null</td><td>null</td><td>null</td><td>null</td><td>null</td><td>null</td><td>null</td><td>null</td><td>null</td><td>null</td><td>null</td><td>null</td><td>null</td><td>null</td><td>null</td><td>null</td><td>null</td><td>null</td><td>null</td><td>null</td><td>null</td><td>null</td><td>null</td><td>null</td><td>null</td><td>null</td><td>null</td><td>null</td><td>null</td><td>null</td><td>null</td><td>null</td><td>null</td><td>null</td><td>null</td><td>null</td><td>null</td><td>null</td><td>null</td><td>null</td><td>null</td><td>null</td><td>null</td><td>null</td><td>null</td><td>null</td><td>null</td><td>null</td><td>7.6</td><td>null</td><td>null</td><td>null</td><td>null</td><td>null</td><td>null</td><td>null</td><td>null</td><td>null</td><td>10.9</td><td>null</td></tr><tr><td>&quot;Afghanistan&quot;</td><td>&quot;Asia&quot;</td><td>&quot;Diabetes prevalence (% of popu…</td><td>&quot;SH.STA.DIAB.ZS&quot;</td><td>null</td><td>null</td><td>null</td><td>null</td><td>null</td><td>null</td><td>null</td><td>null</td><td>null</td><td>null</td><td>null</td><td>null</td><td>null</td><td>null</td><td>null</td><td>null</td><td>null</td><td>null</td><td>null</td><td>null</td><td>null</td><td>null</td><td>null</td><td>null</td><td>null</td><td>null</td><td>null</td><td>null</td><td>null</td><td>null</td><td>null</td><td>null</td><td>null</td><td>null</td><td>null</td><td>null</td><td>null</td><td>null</td><td>null</td><td>null</td><td>null</td><td>null</td><td>null</td><td>null</td><td>null</td><td>null</td><td>null</td><td>null</td><td>null</td><td>null</td><td>null</td><td>7.6</td><td>null</td><td>null</td><td>null</td><td>null</td><td>null</td><td>null</td><td>null</td><td>null</td><td>null</td><td>10.9</td><td>null</td></tr></tbody></table></div>"
      ],
      "text/plain": [
       "shape: (5, 67)\n",
       "┌────────────┬────────┬────────────┬───────────┬───┬───────────┬───────────┬───────────┬───────────┐\n",
       "│ Country    ┆ Region ┆ Series     ┆ Series    ┆ … ┆ 2019      ┆ 2020      ┆ 2021      ┆ 2022      │\n",
       "│ Name       ┆ ---    ┆ Name       ┆ Code      ┆   ┆ [YR2019]  ┆ [YR2020]  ┆ [YR2021]  ┆ [YR2022]  │\n",
       "│ ---        ┆ str    ┆ ---        ┆ ---       ┆   ┆ ---       ┆ ---       ┆ ---       ┆ ---       │\n",
       "│ str        ┆        ┆ str        ┆ str       ┆   ┆ f64       ┆ f64       ┆ f64       ┆ f64       │\n",
       "╞════════════╪════════╪════════════╪═══════════╪═══╪═══════════╪═══════════╪═══════════╪═══════════╡\n",
       "│ Afghanista ┆ Asia   ┆ Diabetes   ┆ SH.STA.DI ┆ … ┆ null      ┆ null      ┆ 10.9      ┆ null      │\n",
       "│ n          ┆        ┆ prevalence ┆ AB.ZS     ┆   ┆           ┆           ┆           ┆           │\n",
       "│            ┆        ┆ (% of      ┆           ┆   ┆           ┆           ┆           ┆           │\n",
       "│            ┆        ┆ popu…      ┆           ┆   ┆           ┆           ┆           ┆           │\n",
       "│ Afghanista ┆ Asia   ┆ Diabetes   ┆ SH.STA.DI ┆ … ┆ null      ┆ null      ┆ 10.9      ┆ null      │\n",
       "│ n          ┆        ┆ prevalence ┆ AB.ZS     ┆   ┆           ┆           ┆           ┆           │\n",
       "│            ┆        ┆ (% of      ┆           ┆   ┆           ┆           ┆           ┆           │\n",
       "│            ┆        ┆ popu…      ┆           ┆   ┆           ┆           ┆           ┆           │\n",
       "│ Afghanista ┆ Asia   ┆ Diabetes   ┆ SH.STA.DI ┆ … ┆ null      ┆ null      ┆ 10.9      ┆ null      │\n",
       "│ n          ┆        ┆ prevalence ┆ AB.ZS     ┆   ┆           ┆           ┆           ┆           │\n",
       "│            ┆        ┆ (% of      ┆           ┆   ┆           ┆           ┆           ┆           │\n",
       "│            ┆        ┆ popu…      ┆           ┆   ┆           ┆           ┆           ┆           │\n",
       "│ Afghanista ┆ Asia   ┆ Diabetes   ┆ SH.STA.DI ┆ … ┆ null      ┆ null      ┆ 10.9      ┆ null      │\n",
       "│ n          ┆        ┆ prevalence ┆ AB.ZS     ┆   ┆           ┆           ┆           ┆           │\n",
       "│            ┆        ┆ (% of      ┆           ┆   ┆           ┆           ┆           ┆           │\n",
       "│            ┆        ┆ popu…      ┆           ┆   ┆           ┆           ┆           ┆           │\n",
       "│ Afghanista ┆ Asia   ┆ Diabetes   ┆ SH.STA.DI ┆ … ┆ null      ┆ null      ┆ 10.9      ┆ null      │\n",
       "│ n          ┆        ┆ prevalence ┆ AB.ZS     ┆   ┆           ┆           ┆           ┆           │\n",
       "│            ┆        ┆ (% of      ┆           ┆   ┆           ┆           ┆           ┆           │\n",
       "│            ┆        ┆ popu…      ┆           ┆   ┆           ┆           ┆           ┆           │\n",
       "└────────────┴────────┴────────────┴───────────┴───┴───────────┴───────────┴───────────┴───────────┘"
      ]
     },
     "execution_count": 41,
     "metadata": {},
     "output_type": "execute_result"
    }
   ],
   "source": [
    "# your code here\n",
    "\n",
    "world_bank = (pl.read_csv('./data/world_bank_raw_download_F23.csv',infer_schema_length = 10000)\n",
    "             .with_columns((cs.starts_with('19')|cs.starts_with('20')).cast(pl.Float64,strict=False))\n",
    "             )\n",
    "\n",
    "world_bank.head()"
   ]
  },
  {
   "cell_type": "code",
   "execution_count": 46,
   "id": "690ebcbb-d05d-4a7e-bcd8-d661e1de01d6",
   "metadata": {},
   "outputs": [
    {
     "data": {
      "text/html": [
       "<div><style>\n",
       ".dataframe > thead > tr,\n",
       ".dataframe > tbody > tr {\n",
       "  text-align: right;\n",
       "  white-space: pre-wrap;\n",
       "}\n",
       "</style>\n",
       "<small>shape: (7, 21)</small><table border=\"1\" class=\"dataframe\"><thead><tr><th>Region</th><th>1980 [YR1980]_Population, total</th><th>1980 [YR1980]_Urban population</th><th>1981 [YR1981]_Population, total</th><th>1981 [YR1981]_Urban population</th><th>1982 [YR1982]_Population, total</th><th>1982 [YR1982]_Urban population</th><th>1983 [YR1983]_Population, total</th><th>1983 [YR1983]_Urban population</th><th>1984 [YR1984]_Population, total</th><th>1984 [YR1984]_Urban population</th><th>1985 [YR1985]_Population, total</th><th>1985 [YR1985]_Urban population</th><th>1986 [YR1986]_Population, total</th><th>1986 [YR1986]_Urban population</th><th>1987 [YR1987]_Population, total</th><th>1987 [YR1987]_Urban population</th><th>1988 [YR1988]_Population, total</th><th>1988 [YR1988]_Urban population</th><th>1989 [YR1989]_Population, total</th><th>1989 [YR1989]_Urban population</th></tr><tr><td>str</td><td>f64</td><td>f64</td><td>f64</td><td>f64</td><td>f64</td><td>f64</td><td>f64</td><td>f64</td><td>f64</td><td>f64</td><td>f64</td><td>f64</td><td>f64</td><td>f64</td><td>f64</td><td>f64</td><td>f64</td><td>f64</td><td>f64</td><td>f64</td></tr></thead><tbody><tr><td>&quot;Asia&quot;</td><td>1.4426e10</td><td>3.6871e9</td><td>1.4688e10</td><td>3.8359e9</td><td>1.4966e10</td><td>3.9846e9</td><td>1.5252e10</td><td>4.1285e9</td><td>1.5532e10</td><td>4.2751e9</td><td>1.5819e10</td><td>4.4258e9</td><td>1.6115e10</td><td>4.5838e9</td><td>1.6421e10</td><td>4.7492e9</td><td>1.6732e10</td><td>4.9194e9</td><td>1.7040e10</td><td>5.0911e9</td></tr><tr><td>&quot;Europe&quot;</td><td>4.0935e9</td><td>2.7618e9</td><td>4.1130e9</td><td>2.7883e9</td><td>4.1293e9</td><td>2.8103e9</td><td>4.1438e9</td><td>2.8304e9</td><td>4.1592e9</td><td>2.8505e9</td><td>4.1752e9</td><td>2.8707e9</td><td>4.1919e9</td><td>2.8922e9</td><td>4.2089e9</td><td>2.9153e9</td><td>4.2263e9</td><td>2.9387e9</td><td>4.2439e9</td><td>2.9583e9</td></tr><tr><td>&quot;Africa&quot;</td><td>2.8795e9</td><td>7.676313e8</td><td>2.9639e9</td><td>8.0256138e8</td><td>3.0529e9</td><td>8.39211048e8</td><td>3.1414e9</td><td>8.77600968e8</td><td>3.2302e9</td><td>9.1824357e8</td><td>3.3227e9</td><td>9.61740984e8</td><td>3.4183e9</td><td>1.0077e9</td><td>3.5165e9</td><td>1.0550e9</td><td>3.6147e9</td><td>1.1029e9</td><td>3.7143e9</td><td>1.1520e9</td></tr><tr><td>&quot;Oceania&quot;</td><td>1.3670172e8</td><td>9.7653678e7</td><td>1.3881636e8</td><td>9.9260982e7</td><td>1.41242118e8</td><td>1.00958064e8</td><td>1.43438688e8</td><td>1.0245108e8</td><td>1.45417626e8</td><td>1.03747872e8</td><td>1.47505818e8</td><td>1.05130188e8</td><td>1.49604606e8</td><td>1.06531722e8</td><td>1.51972332e8</td><td>1.08204906e8</td><td>1.54361946e8</td><td>1.0990257e8</td><td>1.56895044e8</td><td>1.1170488e8</td></tr><tr><td>&quot;The Americas&quot;</td><td>3.6797e9</td><td>2.5167e9</td><td>3.7422e9</td><td>2.5760e9</td><td>3.8044e9</td><td>2.6351e9</td><td>3.8667e9</td><td>2.6945e9</td><td>3.9285e9</td><td>2.7539e9</td><td>3.9907e9</td><td>2.8140e9</td><td>4.0535e9</td><td>2.8749e9</td><td>4.1166e9</td><td>2.9361e9</td><td>4.1803e9</td><td>2.9981e9</td><td>4.2455e9</td><td>3.0615e9</td></tr><tr><td>&quot;Middle East&quot;</td><td>5.6204199e8</td><td>3.0415986e8</td><td>5.85992916e8</td><td>3.21389658e8</td><td>6.10332582e8</td><td>3.38973066e8</td><td>6.32344932e8</td><td>3.55664028e8</td><td>6.55441188e8</td><td>3.73136634e8</td><td>6.7872834e8</td><td>3.90906486e8</td><td>7.02704634e8</td><td>4.0939719e8</td><td>7.27333404e8</td><td>4.2775728e8</td><td>7.5147606e8</td><td>4.45307178e8</td><td>7.76066424e8</td><td>4.63017864e8</td></tr><tr><td>null</td><td>4.1908e10</td><td>1.5041e10</td><td>4.2694e10</td><td>1.5521e10</td><td>4.3518e10</td><td>1.6003e10</td><td>4.4350e10</td><td>1.6479e10</td><td>4.5179e10</td><td>1.6969e10</td><td>4.6026e10</td><td>1.7473e10</td><td>4.6898e10</td><td>1.7995e10</td><td>4.7793e10</td><td>1.8534e10</td><td>4.8696e10</td><td>1.9082e10</td><td>4.9597e10</td><td>1.9632e10</td></tr></tbody></table></div>"
      ],
      "text/plain": [
       "shape: (7, 21)\n",
       "┌───────────┬───────────┬───────────┬───────────┬───┬───────────┬───────────┬───────────┬──────────┐\n",
       "│ Region    ┆ 1980 [YR1 ┆ 1980 [YR1 ┆ 1981 [YR1 ┆ … ┆ 1988 [YR1 ┆ 1988 [YR1 ┆ 1989 [YR1 ┆ 1989 [YR │\n",
       "│ ---       ┆ 980]_Popu ┆ 980]_Urba ┆ 981]_Popu ┆   ┆ 988]_Popu ┆ 988]_Urba ┆ 989]_Popu ┆ 1989]_Ur │\n",
       "│ str       ┆ lation,   ┆ n populat ┆ lation,   ┆   ┆ lation,   ┆ n populat ┆ lation,   ┆ ban popu │\n",
       "│           ┆ tota…     ┆ ion       ┆ tota…     ┆   ┆ tota…     ┆ ion       ┆ tota…     ┆ lation   │\n",
       "│           ┆ ---       ┆ ---       ┆ ---       ┆   ┆ ---       ┆ ---       ┆ ---       ┆ ---      │\n",
       "│           ┆ f64       ┆ f64       ┆ f64       ┆   ┆ f64       ┆ f64       ┆ f64       ┆ f64      │\n",
       "╞═══════════╪═══════════╪═══════════╪═══════════╪═══╪═══════════╪═══════════╪═══════════╪══════════╡\n",
       "│ Asia      ┆ 1.4426e10 ┆ 3.6871e9  ┆ 1.4688e10 ┆ … ┆ 1.6732e10 ┆ 4.9194e9  ┆ 1.7040e10 ┆ 5.0911e9 │\n",
       "│ Europe    ┆ 4.0935e9  ┆ 2.7618e9  ┆ 4.1130e9  ┆ … ┆ 4.2263e9  ┆ 2.9387e9  ┆ 4.2439e9  ┆ 2.9583e9 │\n",
       "│ Africa    ┆ 2.8795e9  ┆ 7.676313e ┆ 2.9639e9  ┆ … ┆ 3.6147e9  ┆ 1.1029e9  ┆ 3.7143e9  ┆ 1.1520e9 │\n",
       "│           ┆           ┆ 8         ┆           ┆   ┆           ┆           ┆           ┆          │\n",
       "│ Oceania   ┆ 1.3670172 ┆ 9.7653678 ┆ 1.3881636 ┆ … ┆ 1.5436194 ┆ 1.0990257 ┆ 1.5689504 ┆ 1.117048 │\n",
       "│           ┆ e8        ┆ e7        ┆ e8        ┆   ┆ 6e8       ┆ e8        ┆ 4e8       ┆ 8e8      │\n",
       "│ The       ┆ 3.6797e9  ┆ 2.5167e9  ┆ 3.7422e9  ┆ … ┆ 4.1803e9  ┆ 2.9981e9  ┆ 4.2455e9  ┆ 3.0615e9 │\n",
       "│ Americas  ┆           ┆           ┆           ┆   ┆           ┆           ┆           ┆          │\n",
       "│ Middle    ┆ 5.6204199 ┆ 3.0415986 ┆ 5.8599291 ┆ … ┆ 7.5147606 ┆ 4.4530717 ┆ 7.7606642 ┆ 4.630178 │\n",
       "│ East      ┆ e8        ┆ e8        ┆ 6e8       ┆   ┆ e8        ┆ 8e8       ┆ 4e8       ┆ 64e8     │\n",
       "│ null      ┆ 4.1908e10 ┆ 1.5041e10 ┆ 4.2694e10 ┆ … ┆ 4.8696e10 ┆ 1.9082e10 ┆ 4.9597e10 ┆ 1.9632e1 │\n",
       "│           ┆           ┆           ┆           ┆   ┆           ┆           ┆           ┆ 0        │\n",
       "└───────────┴───────────┴───────────┴───────────┴───┴───────────┴───────────┴───────────┴──────────┘"
      ]
     },
     "execution_count": 46,
     "metadata": {},
     "output_type": "execute_result"
    }
   ],
   "source": [
    "(world_bank\n",
    " .select(cs.string() - cs.by_name('Series Code')|cs.starts_with('198'))\n",
    " .filter(pl.col('Series Name').str.contains(r'(Population|Urban)'))\n",
    "        .pivot(on = 'Series Name',\n",
    "              index = 'Region',\n",
    "              values = cs.starts_with('198'),\n",
    "              aggregate_function = 'sum')\n",
    ")"
   ]
  }
 ],
 "metadata": {
  "kernelspec": {
   "display_name": "Python 3 (ipykernel)",
   "language": "python",
   "name": "python3"
  },
  "language_info": {
   "codemirror_mode": {
    "name": "ipython",
    "version": 3
   },
   "file_extension": ".py",
   "mimetype": "text/x-python",
   "name": "python",
   "nbconvert_exporter": "python",
   "pygments_lexer": "ipython3",
   "version": "3.12.7"
  }
 },
 "nbformat": 4,
 "nbformat_minor": 5
}
